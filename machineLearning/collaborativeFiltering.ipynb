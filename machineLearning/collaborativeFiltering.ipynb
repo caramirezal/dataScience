{
 "cells": [
  {
   "cell_type": "markdown",
   "metadata": {},
   "source": [
    "# Collaborative filtering algorithm "
   ]
  },
  {
   "cell_type": "markdown",
   "metadata": {},
   "source": [
    "Collaborative filtering algorithms are a set of methods to predict user preferences using the information from other users (Collaborative), see [wikipedia](https://en.wikipedia.org/wiki/Collaborative_filtering) for a reference. Here,  cosine similarity matrix and implicit Collaborative filtering are implemented an compared."
   ]
  },
  {
   "cell_type": "code",
   "execution_count": 1,
   "metadata": {
    "collapsed": true
   },
   "outputs": [],
   "source": [
    "import implicit\n",
    "import pandas as pd\n",
    "import numpy as np\n",
    "import csv\n",
    "from scipy.spatial.distance import cosine\n",
    "from scipy.sparse import csr_matrix\n",
    "\n",
    "# from numpy import linalg as la"
   ]
  },
  {
   "cell_type": "markdown",
   "metadata": {},
   "source": [
    "## Collaborative Filtering using similarity matrix"
   ]
  },
  {
   "cell_type": "markdown",
   "metadata": {},
   "source": [
    "Collaborative filtering referred as item-to-item is implemented in this section. The algorithm consist of two steps.\n",
    "First, a similarity matrix between *items* (item-to-item) is calculated. This step is time consuming and most be carried out off-line. Lastly, more similar items are retrieved using the similarity matrix. This method has the advantage of been simple and accurate but it depends on the expensive calculation of a similarity matrix.\n",
    "The example data and code implementation was taken from Salem Marafi blog [here](http://www.salemmarafi.com/code/collaborative-filtering-with-python/)."
   ]
  },
  {
   "cell_type": "code",
   "execution_count": 2,
   "metadata": {},
   "outputs": [
    {
     "data": {
      "text/html": [
       "<div>\n",
       "<style>\n",
       "    .dataframe thead tr:only-child th {\n",
       "        text-align: right;\n",
       "    }\n",
       "\n",
       "    .dataframe thead th {\n",
       "        text-align: left;\n",
       "    }\n",
       "\n",
       "    .dataframe tbody tr th {\n",
       "        vertical-align: top;\n",
       "    }\n",
       "</style>\n",
       "<table border=\"1\" class=\"dataframe\">\n",
       "  <thead>\n",
       "    <tr style=\"text-align: right;\">\n",
       "      <th></th>\n",
       "      <th>a perfect circle</th>\n",
       "      <th>abba</th>\n",
       "      <th>ac/dc</th>\n",
       "      <th>adam green</th>\n",
       "      <th>aerosmith</th>\n",
       "      <th>afi</th>\n",
       "      <th>air</th>\n",
       "      <th>alanis morissette</th>\n",
       "      <th>alexisonfire</th>\n",
       "    </tr>\n",
       "  </thead>\n",
       "  <tbody>\n",
       "    <tr>\n",
       "      <th>0</th>\n",
       "      <td>0</td>\n",
       "      <td>0</td>\n",
       "      <td>0</td>\n",
       "      <td>0</td>\n",
       "      <td>0</td>\n",
       "      <td>0</td>\n",
       "      <td>0</td>\n",
       "      <td>0</td>\n",
       "      <td>0</td>\n",
       "    </tr>\n",
       "    <tr>\n",
       "      <th>1</th>\n",
       "      <td>0</td>\n",
       "      <td>0</td>\n",
       "      <td>0</td>\n",
       "      <td>1</td>\n",
       "      <td>0</td>\n",
       "      <td>0</td>\n",
       "      <td>0</td>\n",
       "      <td>0</td>\n",
       "      <td>0</td>\n",
       "    </tr>\n",
       "    <tr>\n",
       "      <th>2</th>\n",
       "      <td>0</td>\n",
       "      <td>0</td>\n",
       "      <td>0</td>\n",
       "      <td>0</td>\n",
       "      <td>0</td>\n",
       "      <td>0</td>\n",
       "      <td>0</td>\n",
       "      <td>0</td>\n",
       "      <td>0</td>\n",
       "    </tr>\n",
       "    <tr>\n",
       "      <th>3</th>\n",
       "      <td>0</td>\n",
       "      <td>0</td>\n",
       "      <td>0</td>\n",
       "      <td>0</td>\n",
       "      <td>0</td>\n",
       "      <td>0</td>\n",
       "      <td>0</td>\n",
       "      <td>0</td>\n",
       "      <td>0</td>\n",
       "    </tr>\n",
       "    <tr>\n",
       "      <th>4</th>\n",
       "      <td>0</td>\n",
       "      <td>0</td>\n",
       "      <td>0</td>\n",
       "      <td>0</td>\n",
       "      <td>0</td>\n",
       "      <td>0</td>\n",
       "      <td>0</td>\n",
       "      <td>0</td>\n",
       "      <td>0</td>\n",
       "    </tr>\n",
       "  </tbody>\n",
       "</table>\n",
       "</div>"
      ],
      "text/plain": [
       "   a perfect circle  abba  ac/dc  adam green  aerosmith  afi  air  \\\n",
       "0                 0     0      0           0          0    0    0   \n",
       "1                 0     0      0           1          0    0    0   \n",
       "2                 0     0      0           0          0    0    0   \n",
       "3                 0     0      0           0          0    0    0   \n",
       "4                 0     0      0           0          0    0    0   \n",
       "\n",
       "   alanis morissette  alexisonfire  \n",
       "0                  0             0  \n",
       "1                  0             0  \n",
       "2                  0             0  \n",
       "3                  0             0  \n",
       "4                  0             0  "
      ]
     },
     "execution_count": 2,
     "metadata": {},
     "output_type": "execute_result"
    }
   ],
   "source": [
    "# reading data from csv\n",
    "data = pd.read_csv(\"/home/carlos/scripts/dataScience/data/lastfm-matrix-germany.csv\")\n",
    "data.head().iloc[:,1:10]\n"
   ]
  },
  {
   "cell_type": "code",
   "execution_count": 3,
   "metadata": {},
   "outputs": [
    {
     "data": {
      "text/plain": [
       "(1257, 286)"
      ]
     },
     "execution_count": 3,
     "metadata": {},
     "output_type": "execute_result"
    }
   ],
   "source": [
    "# getting dimensions\n",
    "data.shape"
   ]
  },
  {
   "cell_type": "code",
   "execution_count": 4,
   "metadata": {},
   "outputs": [
    {
     "data": {
      "text/plain": [
       "['user',\n",
       " 'a perfect circle',\n",
       " 'abba',\n",
       " 'ac/dc',\n",
       " 'adam green',\n",
       " 'aerosmith',\n",
       " 'afi',\n",
       " 'air',\n",
       " 'alanis morissette',\n",
       " 'alexisonfire']"
      ]
     },
     "execution_count": 4,
     "metadata": {},
     "output_type": "execute_result"
    }
   ],
   "source": [
    "# first 10 list names\n",
    "names = list(data)\n",
    "names[:10]"
   ]
  },
  {
   "cell_type": "code",
   "execution_count": 5,
   "metadata": {
    "collapsed": true
   },
   "outputs": [],
   "source": [
    "## calculate matriloc of similarity between items\n",
    "def colFiltering (dataPath):\n",
    "    # --- Read Data --- #\n",
    "    data = pd.read_csv(dataPath)\n",
    "    # --- Start Item Based Recommendations --- #\n",
    "    # Drop any column named \"user\"\n",
    "    data = data.drop('user', 1)\n",
    "    # Create a placeholder dataframe listing item vs. item\n",
    "    similarities = pd.DataFrame(index=data.columns,columns=data.columns)\n",
    "    # fill in with cosine similarities\n",
    "    # Loop through the columns\n",
    "    for i in range(0,len(similarities.columns)) :\n",
    "        # Loop through the columns for each column\n",
    "        for j in range(0,len(similarities.columns)) :\n",
    "            # Fill in placeholder with cosine similarities\n",
    "            similarities.iloc[i,j] = 1-cosine(data.iloc[:,i],data.iloc[:,j])\n",
    "        \n",
    " \n",
    "    return similarities;"
   ]
  },
  {
   "cell_type": "code",
   "execution_count": 6,
   "metadata": {},
   "outputs": [
    {
     "data": {
      "text/html": [
       "<div>\n",
       "<style>\n",
       "    .dataframe thead tr:only-child th {\n",
       "        text-align: right;\n",
       "    }\n",
       "\n",
       "    .dataframe thead th {\n",
       "        text-align: left;\n",
       "    }\n",
       "\n",
       "    .dataframe tbody tr th {\n",
       "        vertical-align: top;\n",
       "    }\n",
       "</style>\n",
       "<table border=\"1\" class=\"dataframe\">\n",
       "  <thead>\n",
       "    <tr style=\"text-align: right;\">\n",
       "      <th></th>\n",
       "      <th>a perfect circle</th>\n",
       "      <th>abba</th>\n",
       "      <th>ac/dc</th>\n",
       "      <th>adam green</th>\n",
       "      <th>aerosmith</th>\n",
       "      <th>afi</th>\n",
       "      <th>air</th>\n",
       "      <th>alanis morissette</th>\n",
       "      <th>alexisonfire</th>\n",
       "      <th>alicia keys</th>\n",
       "      <th>...</th>\n",
       "      <th>timbaland</th>\n",
       "      <th>tom waits</th>\n",
       "      <th>tool</th>\n",
       "      <th>tori amos</th>\n",
       "      <th>travis</th>\n",
       "      <th>trivium</th>\n",
       "      <th>u2</th>\n",
       "      <th>underoath</th>\n",
       "      <th>volbeat</th>\n",
       "      <th>yann tiersen</th>\n",
       "    </tr>\n",
       "  </thead>\n",
       "  <tbody>\n",
       "    <tr>\n",
       "      <th>a perfect circle</th>\n",
       "      <td>1</td>\n",
       "      <td>0</td>\n",
       "      <td>0.0179172</td>\n",
       "      <td>0.0515539</td>\n",
       "      <td>0.0627765</td>\n",
       "      <td>0</td>\n",
       "      <td>0.0517549</td>\n",
       "      <td>0.0607177</td>\n",
       "      <td>0</td>\n",
       "      <td>0</td>\n",
       "      <td>...</td>\n",
       "      <td>0.0473381</td>\n",
       "      <td>0.0811998</td>\n",
       "      <td>0.394709</td>\n",
       "      <td>0.125553</td>\n",
       "      <td>0.0303588</td>\n",
       "      <td>0.111154</td>\n",
       "      <td>0.0243975</td>\n",
       "      <td>0.06506</td>\n",
       "      <td>0.0521641</td>\n",
       "      <td>0</td>\n",
       "    </tr>\n",
       "    <tr>\n",
       "      <th>abba</th>\n",
       "      <td>0</td>\n",
       "      <td>1</td>\n",
       "      <td>0.0522788</td>\n",
       "      <td>0.0250706</td>\n",
       "      <td>0.0610563</td>\n",
       "      <td>0</td>\n",
       "      <td>0.0167789</td>\n",
       "      <td>0.0295269</td>\n",
       "      <td>0</td>\n",
       "      <td>0</td>\n",
       "      <td>...</td>\n",
       "      <td>0</td>\n",
       "      <td>0</td>\n",
       "      <td>0</td>\n",
       "      <td>0.0610563</td>\n",
       "      <td>0.0295269</td>\n",
       "      <td>0</td>\n",
       "      <td>0.0949158</td>\n",
       "      <td>0</td>\n",
       "      <td>0.0253673</td>\n",
       "      <td>0</td>\n",
       "    </tr>\n",
       "    <tr>\n",
       "      <th>ac/dc</th>\n",
       "      <td>0.0179172</td>\n",
       "      <td>0.0522788</td>\n",
       "      <td>1</td>\n",
       "      <td>0.113154</td>\n",
       "      <td>0.177153</td>\n",
       "      <td>0.0678942</td>\n",
       "      <td>0.0757299</td>\n",
       "      <td>0.0380762</td>\n",
       "      <td>0</td>\n",
       "      <td>0.0883332</td>\n",
       "      <td>...</td>\n",
       "      <td>0.0445288</td>\n",
       "      <td>0.0678942</td>\n",
       "      <td>0.0582408</td>\n",
       "      <td>0.0393673</td>\n",
       "      <td>0</td>\n",
       "      <td>0.0871313</td>\n",
       "      <td>0.122398</td>\n",
       "      <td>0.0203997</td>\n",
       "      <td>0.130849</td>\n",
       "      <td>0</td>\n",
       "    </tr>\n",
       "    <tr>\n",
       "      <th>adam green</th>\n",
       "      <td>0.0515539</td>\n",
       "      <td>0.0250706</td>\n",
       "      <td>0.113154</td>\n",
       "      <td>1</td>\n",
       "      <td>0.0566365</td>\n",
       "      <td>0</td>\n",
       "      <td>0.0933859</td>\n",
       "      <td>0</td>\n",
       "      <td>0</td>\n",
       "      <td>0.0254164</td>\n",
       "      <td>...</td>\n",
       "      <td>0</td>\n",
       "      <td>0.146516</td>\n",
       "      <td>0.0837892</td>\n",
       "      <td>0.0566365</td>\n",
       "      <td>0.0821687</td>\n",
       "      <td>0.0250706</td>\n",
       "      <td>0.0220113</td>\n",
       "      <td>0</td>\n",
       "      <td>0.023531</td>\n",
       "      <td>0.0880451</td>\n",
       "    </tr>\n",
       "    <tr>\n",
       "      <th>aerosmith</th>\n",
       "      <td>0.0627765</td>\n",
       "      <td>0.0610563</td>\n",
       "      <td>0.177153</td>\n",
       "      <td>0.0566365</td>\n",
       "      <td>1</td>\n",
       "      <td>0</td>\n",
       "      <td>0.113715</td>\n",
       "      <td>0.100056</td>\n",
       "      <td>0</td>\n",
       "      <td>0.0618984</td>\n",
       "      <td>...</td>\n",
       "      <td>0.0520051</td>\n",
       "      <td>0.0297351</td>\n",
       "      <td>0.0255072</td>\n",
       "      <td>0.0689655</td>\n",
       "      <td>0.0333519</td>\n",
       "      <td>0</td>\n",
       "      <td>0.214423</td>\n",
       "      <td>0</td>\n",
       "      <td>0.0573068</td>\n",
       "      <td>0</td>\n",
       "    </tr>\n",
       "  </tbody>\n",
       "</table>\n",
       "<p>5 rows × 285 columns</p>\n",
       "</div>"
      ],
      "text/plain": [
       "                 a perfect circle       abba      ac/dc adam green  aerosmith  \\\n",
       "a perfect circle                1          0  0.0179172  0.0515539  0.0627765   \n",
       "abba                            0          1  0.0522788  0.0250706  0.0610563   \n",
       "ac/dc                   0.0179172  0.0522788          1   0.113154   0.177153   \n",
       "adam green              0.0515539  0.0250706   0.113154          1  0.0566365   \n",
       "aerosmith               0.0627765  0.0610563   0.177153  0.0566365          1   \n",
       "\n",
       "                        afi        air alanis morissette alexisonfire  \\\n",
       "a perfect circle          0  0.0517549         0.0607177            0   \n",
       "abba                      0  0.0167789         0.0295269            0   \n",
       "ac/dc             0.0678942  0.0757299         0.0380762            0   \n",
       "adam green                0  0.0933859                 0            0   \n",
       "aerosmith                 0   0.113715          0.100056            0   \n",
       "\n",
       "                 alicia keys     ...       timbaland  tom waits       tool  \\\n",
       "a perfect circle           0     ...       0.0473381  0.0811998   0.394709   \n",
       "abba                       0     ...               0          0          0   \n",
       "ac/dc              0.0883332     ...       0.0445288  0.0678942  0.0582408   \n",
       "adam green         0.0254164     ...               0   0.146516  0.0837892   \n",
       "aerosmith          0.0618984     ...       0.0520051  0.0297351  0.0255072   \n",
       "\n",
       "                  tori amos     travis    trivium         u2  underoath  \\\n",
       "a perfect circle   0.125553  0.0303588   0.111154  0.0243975    0.06506   \n",
       "abba              0.0610563  0.0295269          0  0.0949158          0   \n",
       "ac/dc             0.0393673          0  0.0871313   0.122398  0.0203997   \n",
       "adam green        0.0566365  0.0821687  0.0250706  0.0220113          0   \n",
       "aerosmith         0.0689655  0.0333519          0   0.214423          0   \n",
       "\n",
       "                    volbeat yann tiersen  \n",
       "a perfect circle  0.0521641            0  \n",
       "abba              0.0253673            0  \n",
       "ac/dc              0.130849            0  \n",
       "adam green         0.023531    0.0880451  \n",
       "aerosmith         0.0573068            0  \n",
       "\n",
       "[5 rows x 285 columns]"
      ]
     },
     "execution_count": 6,
     "metadata": {},
     "output_type": "execute_result"
    }
   ],
   "source": [
    "similarities = colFiltering(\"/home/carlos/scripts/dataScience/data/lastfm-matrix-germany.csv\")\n",
    "similarities.head()"
   ]
  },
  {
   "cell_type": "markdown",
   "metadata": {},
   "source": [
    "### Validation"
   ]
  },
  {
   "cell_type": "code",
   "execution_count": 7,
   "metadata": {},
   "outputs": [
    {
     "data": {
      "text/plain": [
       "guns n roses           1\n",
       "queen           0.160422\n",
       "metallica       0.154303\n",
       "deep purple      0.14825\n",
       "depeche mode    0.141019\n",
       "Name: guns n roses, dtype: object"
      ]
     },
     "execution_count": 7,
     "metadata": {},
     "output_type": "execute_result"
    }
   ],
   "source": [
    "similarities.loc[\"guns n roses\",:].sort_values(ascending=False)[:5]"
   ]
  },
  {
   "cell_type": "markdown",
   "metadata": {},
   "source": [
    "From the validation it can be seen that predictions seems accurate."
   ]
  },
  {
   "cell_type": "markdown",
   "metadata": {},
   "source": [
    "## Collaborative filtering using implicit library"
   ]
  },
  {
   "cell_type": "markdown",
   "metadata": {},
   "source": [
    "Implicit Collaborative filtering is a method developed to make use of implicit information from user preferences like click or visits behavior rather than explicit information like product rating and purchases records.\n",
    "I this section *implicit* ([library](https://github.com/benfred/implicit)) is evaluated to implement implicit collaborative filtering."
   ]
  },
  {
   "cell_type": "code",
   "execution_count": 8,
   "metadata": {},
   "outputs": [
    {
     "data": {
      "text/html": [
       "<div>\n",
       "<style>\n",
       "    .dataframe thead tr:only-child th {\n",
       "        text-align: right;\n",
       "    }\n",
       "\n",
       "    .dataframe thead th {\n",
       "        text-align: left;\n",
       "    }\n",
       "\n",
       "    .dataframe tbody tr th {\n",
       "        vertical-align: top;\n",
       "    }\n",
       "</style>\n",
       "<table border=\"1\" class=\"dataframe\">\n",
       "  <thead>\n",
       "    <tr style=\"text-align: right;\">\n",
       "      <th></th>\n",
       "      <th>0</th>\n",
       "      <th>1</th>\n",
       "      <th>2</th>\n",
       "      <th>3</th>\n",
       "      <th>4</th>\n",
       "      <th>5</th>\n",
       "      <th>6</th>\n",
       "      <th>7</th>\n",
       "      <th>8</th>\n",
       "      <th>9</th>\n",
       "      <th>...</th>\n",
       "      <th>1247</th>\n",
       "      <th>1248</th>\n",
       "      <th>1249</th>\n",
       "      <th>1250</th>\n",
       "      <th>1251</th>\n",
       "      <th>1252</th>\n",
       "      <th>1253</th>\n",
       "      <th>1254</th>\n",
       "      <th>1255</th>\n",
       "      <th>1256</th>\n",
       "    </tr>\n",
       "  </thead>\n",
       "  <tbody>\n",
       "    <tr>\n",
       "      <th>a perfect circle</th>\n",
       "      <td>0</td>\n",
       "      <td>0</td>\n",
       "      <td>0</td>\n",
       "      <td>0</td>\n",
       "      <td>0</td>\n",
       "      <td>0</td>\n",
       "      <td>0</td>\n",
       "      <td>0</td>\n",
       "      <td>0</td>\n",
       "      <td>0</td>\n",
       "      <td>...</td>\n",
       "      <td>0</td>\n",
       "      <td>0</td>\n",
       "      <td>0</td>\n",
       "      <td>1</td>\n",
       "      <td>0</td>\n",
       "      <td>0</td>\n",
       "      <td>0</td>\n",
       "      <td>0</td>\n",
       "      <td>0</td>\n",
       "      <td>0</td>\n",
       "    </tr>\n",
       "    <tr>\n",
       "      <th>abba</th>\n",
       "      <td>0</td>\n",
       "      <td>0</td>\n",
       "      <td>0</td>\n",
       "      <td>0</td>\n",
       "      <td>0</td>\n",
       "      <td>0</td>\n",
       "      <td>0</td>\n",
       "      <td>0</td>\n",
       "      <td>0</td>\n",
       "      <td>0</td>\n",
       "      <td>...</td>\n",
       "      <td>0</td>\n",
       "      <td>0</td>\n",
       "      <td>0</td>\n",
       "      <td>0</td>\n",
       "      <td>0</td>\n",
       "      <td>0</td>\n",
       "      <td>0</td>\n",
       "      <td>0</td>\n",
       "      <td>0</td>\n",
       "      <td>0</td>\n",
       "    </tr>\n",
       "    <tr>\n",
       "      <th>ac/dc</th>\n",
       "      <td>0</td>\n",
       "      <td>0</td>\n",
       "      <td>0</td>\n",
       "      <td>0</td>\n",
       "      <td>0</td>\n",
       "      <td>0</td>\n",
       "      <td>0</td>\n",
       "      <td>0</td>\n",
       "      <td>0</td>\n",
       "      <td>0</td>\n",
       "      <td>...</td>\n",
       "      <td>0</td>\n",
       "      <td>0</td>\n",
       "      <td>0</td>\n",
       "      <td>0</td>\n",
       "      <td>0</td>\n",
       "      <td>1</td>\n",
       "      <td>0</td>\n",
       "      <td>1</td>\n",
       "      <td>0</td>\n",
       "      <td>0</td>\n",
       "    </tr>\n",
       "    <tr>\n",
       "      <th>adam green</th>\n",
       "      <td>0</td>\n",
       "      <td>1</td>\n",
       "      <td>0</td>\n",
       "      <td>0</td>\n",
       "      <td>0</td>\n",
       "      <td>0</td>\n",
       "      <td>0</td>\n",
       "      <td>0</td>\n",
       "      <td>0</td>\n",
       "      <td>0</td>\n",
       "      <td>...</td>\n",
       "      <td>0</td>\n",
       "      <td>0</td>\n",
       "      <td>0</td>\n",
       "      <td>0</td>\n",
       "      <td>0</td>\n",
       "      <td>1</td>\n",
       "      <td>0</td>\n",
       "      <td>0</td>\n",
       "      <td>0</td>\n",
       "      <td>1</td>\n",
       "    </tr>\n",
       "    <tr>\n",
       "      <th>aerosmith</th>\n",
       "      <td>0</td>\n",
       "      <td>0</td>\n",
       "      <td>0</td>\n",
       "      <td>0</td>\n",
       "      <td>0</td>\n",
       "      <td>0</td>\n",
       "      <td>0</td>\n",
       "      <td>0</td>\n",
       "      <td>0</td>\n",
       "      <td>0</td>\n",
       "      <td>...</td>\n",
       "      <td>0</td>\n",
       "      <td>0</td>\n",
       "      <td>0</td>\n",
       "      <td>0</td>\n",
       "      <td>0</td>\n",
       "      <td>1</td>\n",
       "      <td>0</td>\n",
       "      <td>0</td>\n",
       "      <td>0</td>\n",
       "      <td>0</td>\n",
       "    </tr>\n",
       "  </tbody>\n",
       "</table>\n",
       "<p>5 rows × 1257 columns</p>\n",
       "</div>"
      ],
      "text/plain": [
       "                  0     1     2     3     4     5     6     7     8     9     \\\n",
       "a perfect circle     0     0     0     0     0     0     0     0     0     0   \n",
       "abba                 0     0     0     0     0     0     0     0     0     0   \n",
       "ac/dc                0     0     0     0     0     0     0     0     0     0   \n",
       "adam green           0     1     0     0     0     0     0     0     0     0   \n",
       "aerosmith            0     0     0     0     0     0     0     0     0     0   \n",
       "\n",
       "                  ...   1247  1248  1249  1250  1251  1252  1253  1254  1255  \\\n",
       "a perfect circle  ...      0     0     0     1     0     0     0     0     0   \n",
       "abba              ...      0     0     0     0     0     0     0     0     0   \n",
       "ac/dc             ...      0     0     0     0     0     1     0     1     0   \n",
       "adam green        ...      0     0     0     0     0     1     0     0     0   \n",
       "aerosmith         ...      0     0     0     0     0     1     0     0     0   \n",
       "\n",
       "                  1256  \n",
       "a perfect circle     0  \n",
       "abba                 0  \n",
       "ac/dc                0  \n",
       "adam green           1  \n",
       "aerosmith            0  \n",
       "\n",
       "[5 rows x 1257 columns]"
      ]
     },
     "execution_count": 8,
     "metadata": {},
     "output_type": "execute_result"
    }
   ],
   "source": [
    "data = pd.read_csv(\"/home/carlos/scripts/dataScience/data/lastfm-matrix-germany.csv\")\n",
    "data = data.drop('user',1)\n",
    "data = data.T\n",
    "data.head()"
   ]
  },
  {
   "cell_type": "markdown",
   "metadata": {},
   "source": [
    "In the following code the method is implemented. From which can be seen that no parameters are required."
   ]
  },
  {
   "cell_type": "code",
   "execution_count": 15,
   "metadata": {},
   "outputs": [
    {
     "name": "stderr",
     "output_type": "stream",
     "text": [
      "WARNING:root:Intel MKL BLAS detected. Its highly recommend to set the environment variable 'export MKL_NUM_THREADS=1' to disable its internal multithreading\n"
     ]
    }
   ],
   "source": [
    "## tranform data to sparse matrix\n",
    "count = csr_matrix(data,dtype=np.float64)\n",
    "\n",
    "# initialize a model\n",
    "model = implicit.als.AlternatingLeastSquares()\n",
    "\n",
    "# train the model on a sparse matrix of item/user/confidence weights\n",
    "np.random.seed(23)\n",
    "model.fit(count)\n"
   ]
  },
  {
   "cell_type": "markdown",
   "metadata": {},
   "source": [
    "### Validation"
   ]
  },
  {
   "cell_type": "code",
   "execution_count": 16,
   "metadata": {},
   "outputs": [
    {
     "data": {
      "text/plain": [
       "['black sabbath',\n",
       " 'mando diao',\n",
       " 'death cab for cutie',\n",
       " 'simple plan',\n",
       " 'arcade fire',\n",
       " 'joy division',\n",
       " 'bloc party',\n",
       " 'dido',\n",
       " 'eminem']"
      ]
     },
     "execution_count": 16,
     "metadata": {},
     "output_type": "execute_result"
    }
   ],
   "source": [
    "## check recommendations for guns n roses\n",
    "rec = model.similar_items(names.index(\"guns n roses\"))\n",
    "[names[rec[i][0]] for i in range(1,len(rec))]\n"
   ]
  },
  {
   "cell_type": "markdown",
   "metadata": {},
   "source": [
    "It can be seen that predictions are not accurate. "
   ]
  },
  {
   "cell_type": "markdown",
   "metadata": {},
   "source": [
    "## Conclusions"
   ]
  },
  {
   "cell_type": "markdown",
   "metadata": {},
   "source": [
    "In this report, two Collaborative Filtering algorithms are assesed. First, a similarity based method is implemented. Importantly, this method was the more accurate based on manually checked predictions. However, a major disadvantage of this method is its scalability. On the other hand, Implicit Collaborative filtering using implicit library has the advantage of better performance. However, in our hands the quality of predicitons were not accurate.   "
   ]
  }
 ],
 "metadata": {
  "kernelspec": {
   "display_name": "Python 3",
   "language": "python",
   "name": "python3"
  },
  "language_info": {
   "codemirror_mode": {
    "name": "ipython",
    "version": 3
   },
   "file_extension": ".py",
   "mimetype": "text/x-python",
   "name": "python",
   "nbconvert_exporter": "python",
   "pygments_lexer": "ipython3",
   "version": "3.6.1"
  }
 },
 "nbformat": 4,
 "nbformat_minor": 2
}

{
 "cells": [
  {
   "cell_type": "markdown",
   "metadata": {},
   "source": [
    "# Data Science Course\n",
    "\n",
    "Currently, massive information and big data are trending topics. Those terms refers to stored information which are both big and complex. Data Science refers to the set of specialized tools which are required for the manipulation and analysis of complex data. This trend is related to the increasing capacity to store data in current memory devices. Nowadays, it is possible to store huge quantities of information without having any complex hardware facilities using cloud technologies. In this course we focused in Data Science applied to Biomedical Research. The results of biological experiments needs to be sorted, classified and visualized in the form of plots and tables. Additionally, they are subject to statistical testing and model fitting in order to integrate the information and generate coherent biological interpretations that further suggests insights to formulate new experimental hypothesis. Data visualization also improves communication of results and highlights the experimental work. The aim of the present course is to be a hands on introduction to the basics of Data Science based on Biomedical real life data examples."
   ]
  },
  {
   "cell_type": "code",
   "execution_count": null,
   "metadata": {},
   "outputs": [],
   "source": []
  }
 ],
 "metadata": {
  "kernelspec": {
   "display_name": "R",
   "language": "R",
   "name": "ir"
  },
  "language_info": {
   "codemirror_mode": "r",
   "file_extension": ".r",
   "mimetype": "text/x-r-source",
   "name": "R",
   "pygments_lexer": "r",
   "version": "3.5.1"
  }
 },
 "nbformat": 4,
 "nbformat_minor": 2
}
